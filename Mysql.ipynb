{
 "cells": [
  {
   "cell_type": "code",
   "execution_count": 1,
   "metadata": {},
   "outputs": [
    {
     "name": "stdout",
     "output_type": "stream",
     "text": [
      "<mysql.connector.connection_cext.CMySQLConnection object at 0x000002673A534880>\n"
     ]
    }
   ],
   "source": [
    "import mysql.connector\n",
    "\n",
    "mydb = mysql.connector.connect(\n",
    "host = \"localhost\",\n",
    "user = \"root\",\n",
    "password = \"9449200151\"\n",
    ")\n",
    "print(mydb)"
   ]
  },
  {
   "cell_type": "code",
   "execution_count": 2,
   "metadata": {},
   "outputs": [
    {
     "name": "stdout",
     "output_type": "stream",
     "text": [
      "('database1',)\n",
      "('information_schema',)\n",
      "('mysql',)\n",
      "('performance_schema',)\n",
      "('sakila',)\n",
      "('sys',)\n",
      "('world',)\n"
     ]
    }
   ],
   "source": [
    "#CHEAK DATABASE\n",
    "mycursor = mydb.cursor()\n",
    "mycursor.execute(\"SHOW DATABASES\")\n",
    "for x in mycursor:\n",
    "    print(x)"
   ]
  },
  {
   "cell_type": "code",
   "execution_count": null,
   "metadata": {},
   "outputs": [],
   "source": [
    "#CREATE DATABASE"
   ]
  },
  {
   "cell_type": "code",
   "execution_count": null,
   "metadata": {},
   "outputs": [],
   "source": [
    "mycursor = mydb.cursor()\n",
    "mycursor.execute(\"CREATE DATABASE database1\")"
   ]
  },
  {
   "cell_type": "code",
   "execution_count": null,
   "metadata": {},
   "outputs": [],
   "source": [
    "#CREATE TABLE MAINTION THE DATABASE WHERE YOU WANT TO CREATE THE TABLES"
   ]
  },
  {
   "cell_type": "code",
   "execution_count": null,
   "metadata": {},
   "outputs": [],
   "source": [
    "mydb = mysql.connector.connect(\n",
    "host = \"localhost\",\n",
    "user = \"root\",\n",
    "password = \"9449200151\",\n",
    "database =\"database1\"\n",
    ")\n",
    "mycursor = mydb.cursor()\n",
    "\n",
    "mycursor.execute(\"CREATE TABLE school (gender VARCHAR(6), student_id INTEGER(10),marks INTEGER(3))\")"
   ]
  },
  {
   "cell_type": "code",
   "execution_count": null,
   "metadata": {},
   "outputs": [],
   "source": [
    "#CHEAK ANY TABLES ARE AVAILABLE"
   ]
  },
  {
   "cell_type": "code",
   "execution_count": 3,
   "metadata": {},
   "outputs": [
    {
     "name": "stdout",
     "output_type": "stream",
     "text": [
      "('school',)\n"
     ]
    }
   ],
   "source": [
    "mydb = mysql.connector.connect(\n",
    "host = \"localhost\",\n",
    "user = \"root\",\n",
    "password = \"9449200151\",\n",
    "database =\"database1\"\n",
    ")\n",
    "mycursor = mydb.cursor()\n",
    "\n",
    "mycursor.execute(\"SHOW TABLES\")\n",
    "for x in mycursor:\n",
    "    print(x)"
   ]
  },
  {
   "cell_type": "markdown",
   "metadata": {},
   "source": [
    "DATA INSERTION"
   ]
  },
  {
   "cell_type": "code",
   "execution_count": 4,
   "metadata": {},
   "outputs": [
    {
     "name": "stdout",
     "output_type": "stream",
     "text": [
      "1 record inserted\n"
     ]
    }
   ],
   "source": [
    "mydb = mysql.connector.connect(\n",
    "host = \"localhost\",\n",
    "user = \"root\",\n",
    "password = \"9449200151\",\n",
    "database =\"database1\"\n",
    ")\n",
    "mycursor = mydb.cursor()\n",
    "sql = \"INSERT INTO school (gender,student_id,marks) VALUES ('male',1021,21)\"\n",
    "\n",
    "mycursor.execute(sql)\n",
    "mydb.commit()\n",
    "print(mycursor.rowcount,\"record inserted\")"
   ]
  },
  {
   "cell_type": "markdown",
   "metadata": {},
   "source": [
    "MULTIPLE RECORD INSERTION"
   ]
  },
  {
   "cell_type": "code",
   "execution_count": 5,
   "metadata": {},
   "outputs": [
    {
     "name": "stdout",
     "output_type": "stream",
     "text": [
      "5 record installed\n"
     ]
    }
   ],
   "source": [
    "mydb = mysql.connector.connect(\n",
    "host = \"localhost\",\n",
    "user = \"root\",\n",
    "password = \"9449200151\",\n",
    "database =\"database1\"\n",
    ")\n",
    "mycursor = mydb.cursor()\n",
    "sql = \"INSERT INTO school (gender,student_id,marks) VALUES ('male',1033,23),('female',1022,25),('female',1032,27),('male',5022,25),('male',1032,45)\"\n",
    "mycursor.execute(sql)\n",
    "mydb.commit()\n",
    "print(mycursor.rowcount,\"record installed\")"
   ]
  },
  {
   "cell_type": "markdown",
   "metadata": {},
   "source": [
    "#ANOTHER WAY TO INSERT RECORDS"
   ]
  },
  {
   "cell_type": "code",
   "execution_count": 6,
   "metadata": {},
   "outputs": [
    {
     "name": "stdout",
     "output_type": "stream",
     "text": [
      "5 record installed\n"
     ]
    }
   ],
   "source": [
    "sql = \"INSERT INTO MARKS (gender,student_id,marks) VALUES (%s,%s,%S)\"\n",
    "val = (('male',1233,55),('female',1211,54),('male',1215,18),('female',1260,25))\n",
    "print(mycursor.rowcount,\"record installed\")"
   ]
  },
  {
   "cell_type": "markdown",
   "metadata": {},
   "source": [
    "#DATA SELECTION"
   ]
  },
  {
   "cell_type": "code",
   "execution_count": null,
   "metadata": {},
   "outputs": [],
   "source": [
    "#SELECTING ALL (FETCH ALL)"
   ]
  },
  {
   "cell_type": "code",
   "execution_count": 8,
   "metadata": {},
   "outputs": [
    {
     "name": "stdout",
     "output_type": "stream",
     "text": [
      "('male', 1021, 21)\n",
      "('male', 1033, 23)\n",
      "('female', 1022, 25)\n",
      "('female', 1032, 27)\n",
      "('male', 5022, 25)\n",
      "('male', 1032, 45)\n",
      "('male', 1021, 21)\n",
      "('male', 1033, 23)\n",
      "('female', 1022, 25)\n",
      "('female', 1032, 27)\n",
      "('male', 5022, 25)\n",
      "('male', 1032, 45)\n",
      "('male', 1021, 21)\n",
      "('male', 1033, 23)\n",
      "('female', 1022, 25)\n",
      "('female', 1032, 27)\n",
      "('male', 5022, 25)\n",
      "('male', 1032, 45)\n",
      "('male', 1021, 21)\n",
      "('male', 1033, 23)\n",
      "('female', 1022, 25)\n",
      "('female', 1032, 27)\n",
      "('male', 5022, 25)\n",
      "('male', 1032, 45)\n"
     ]
    }
   ],
   "source": [
    "import mysql.connector\n",
    "mydb = mysql.connector.connect(\n",
    "host = \"localhost\",\n",
    "user = \"root\",\n",
    "password = \"9449200151\",\n",
    "database =\"database1\"\n",
    ")\n",
    "mycursor = mydb.cursor()\n",
    "mycursor.execute(\"SELECT * FROM school\")\n",
    "myresult = mycursor.fetchall()\n",
    "for x in myresult:\n",
    "    print(x)\n"
   ]
  },
  {
   "cell_type": "code",
   "execution_count": null,
   "metadata": {},
   "outputs": [],
   "source": [
    "#SELECTING BASED ON CONDITION(REPETED  DATA)"
   ]
  },
  {
   "cell_type": "code",
   "execution_count": 10,
   "metadata": {},
   "outputs": [
    {
     "name": "stdout",
     "output_type": "stream",
     "text": [
      "('female', 1032, 27)\n",
      "('male', 1032, 45)\n"
     ]
    }
   ],
   "source": [
    "mydb = mysql.connector.connect(\n",
    "host = \"localhost\",\n",
    "user = \"root\",\n",
    "password = \"9449200151\",\n",
    "database =\"database1\"\n",
    ")\n",
    "mycursor = mydb.cursor()\n",
    "sql = \"SELECT DISTINCT * FROM school WHERE student_id =1032\"\n",
    "\n",
    "mycursor.execute(sql)\n",
    "myresult = mycursor.fetchall()\n",
    "for x in myresult:\n",
    "    print(x)"
   ]
  },
  {
   "cell_type": "markdown",
   "metadata": {},
   "source": [
    "#SELECTING ON COLUMN"
   ]
  },
  {
   "cell_type": "code",
   "execution_count": 14,
   "metadata": {},
   "outputs": [
    {
     "name": "stdout",
     "output_type": "stream",
     "text": [
      "('male', 1032, 45)\n",
      "('male', 1032, 45)\n",
      "('male', 1032, 45)\n",
      "('male', 1032, 45)\n",
      "('female', 1032, 27)\n",
      "('female', 1032, 27)\n",
      "('female', 1032, 27)\n",
      "('female', 1032, 27)\n",
      "('female', 1022, 25)\n",
      "('male', 5022, 25)\n",
      "('female', 1022, 25)\n",
      "('male', 5022, 25)\n",
      "('female', 1022, 25)\n",
      "('male', 5022, 25)\n",
      "('female', 1022, 25)\n",
      "('male', 5022, 25)\n",
      "('male', 1033, 23)\n",
      "('male', 1033, 23)\n",
      "('male', 1033, 23)\n",
      "('male', 1033, 23)\n",
      "('male', 1021, 21)\n",
      "('male', 1021, 21)\n",
      "('male', 1021, 21)\n",
      "('male', 1021, 21)\n"
     ]
    }
   ],
   "source": [
    "sql = \"SELECT * FROM school ORDER BY marks desc  \"\n",
    "mycursor.execute(sql)\n",
    "myresult = mycursor.fetchall()\n",
    "for x in myresult:\n",
    "    print(x)"
   ]
  },
  {
   "cell_type": "markdown",
   "metadata": {},
   "source": [
    "#UPDATE TABLE"
   ]
  },
  {
   "cell_type": "code",
   "execution_count": 15,
   "metadata": {},
   "outputs": [
    {
     "name": "stdout",
     "output_type": "stream",
     "text": [
      "4 records installed\n"
     ]
    }
   ],
   "source": [
    "mydb = mysql.connector.connect(\n",
    "host = \"localhost\",\n",
    "user = \"root\",\n",
    "password = \"9449200151\",\n",
    "database =\"database1\"\n",
    ")\n",
    "mycursor = mydb.cursor()\n",
    "sql = \"UPDATE school SET marks = 100 WHERE student_id=1022\"\n",
    "mycursor.execute(sql)\n",
    "mydb.commit()\n",
    "print(mycursor.rowcount,\"records installed\")"
   ]
  },
  {
   "cell_type": "markdown",
   "metadata": {},
   "source": [
    "#SORT THE OUTPUT USING ORDERBY (BY DEFAULT ASSENDING)\n"
   ]
  },
  {
   "cell_type": "code",
   "execution_count": 18,
   "metadata": {},
   "outputs": [
    {
     "name": "stdout",
     "output_type": "stream",
     "text": [
      "('female', 1022, 100)\n",
      "('female', 1022, 100)\n",
      "('female', 1022, 100)\n",
      "('female', 1022, 100)\n",
      "('male', 1032, 45)\n",
      "('male', 1032, 45)\n",
      "('male', 1032, 45)\n",
      "('male', 1032, 45)\n",
      "('female', 1032, 27)\n",
      "('female', 1032, 27)\n",
      "('female', 1032, 27)\n",
      "('female', 1032, 27)\n",
      "('male', 5022, 25)\n",
      "('male', 5022, 25)\n",
      "('male', 5022, 25)\n",
      "('male', 5022, 25)\n",
      "('male', 1033, 23)\n",
      "('male', 1033, 23)\n",
      "('male', 1033, 23)\n",
      "('male', 1033, 23)\n",
      "('male', 1021, 21)\n",
      "('male', 1021, 21)\n",
      "('male', 1021, 21)\n",
      "('male', 1021, 21)\n"
     ]
    }
   ],
   "source": [
    "mydb = mysql.connector.connect(\n",
    "host = \"localhost\",\n",
    "user = \"root\",\n",
    "password = \"9449200151\",\n",
    "database =\"database1\"\n",
    ")\n",
    "mycursor = mydb.cursor()\n",
    "sql = \"SELECT * FROM school ORDER BY marks desc\"\n",
    "mycursor.execute(sql)\n",
    "myresult = mycursor.fetchall()\n",
    "for x in myresult:\n",
    "    print(x)\n"
   ]
  },
  {
   "cell_type": "code",
   "execution_count": 2,
   "metadata": {},
   "outputs": [
    {
     "name": "stdout",
     "output_type": "stream",
     "text": [
      "<mysql.connector.connection_cext.CMySQLConnection object at 0x0000021271B13880>\n"
     ]
    }
   ],
   "source": [
    "import mysql.connector\n",
    "\n",
    "mydb = mysql.connector.connect(\n",
    "host = \"localhost\",\n",
    "user = \"root\",\n",
    "password = \"9449200151\"\n",
    ")\n",
    "print(mydb)"
   ]
  },
  {
   "cell_type": "code",
   "execution_count": 4,
   "metadata": {},
   "outputs": [
    {
     "name": "stdout",
     "output_type": "stream",
     "text": [
      "('database1',)\n",
      "('information_schema',)\n",
      "('mysql',)\n",
      "('performance_schema',)\n",
      "('sakila',)\n",
      "('sys',)\n",
      "('world',)\n"
     ]
    }
   ],
   "source": [
    "mycursor = mydb.cursor()\n",
    "mycursor.execute(\"SHOW DATABASES\")\n",
    "for x in mycursor:\n",
    "    print(x)"
   ]
  },
  {
   "cell_type": "raw",
   "metadata": {},
   "source": [
    "# CREATING DATABASE 2"
   ]
  },
  {
   "cell_type": "code",
   "execution_count": 6,
   "metadata": {},
   "outputs": [],
   "source": [
    "mycursor = mydb.cursor()\n",
    "mycursor.execute(\"CREATE DATABASE database2\")"
   ]
  },
  {
   "cell_type": "code",
   "execution_count": 7,
   "metadata": {},
   "outputs": [],
   "source": [
    "mydb = mysql.connector.connect(\n",
    "host = \"localhost\",\n",
    "user = \"root\",\n",
    "password = \"9449200151\",\n",
    "database =\"database2\"\n",
    ")\n",
    "mycursor = mydb.cursor()\n",
    "\n",
    "mycursor.execute(\"CREATE TABLE college (gender VARCHAR(6), student_id INTEGER(10),marks INTEGER(3))\")"
   ]
  },
  {
   "cell_type": "code",
   "execution_count": 15,
   "metadata": {},
   "outputs": [
    {
     "ename": "ProgrammingError",
     "evalue": "1054 (42S22): Unknown column 'name' in 'field list'",
     "output_type": "error",
     "traceback": [
      "\u001b[1;31m---------------------------------------------------------------------------\u001b[0m",
      "\u001b[1;31mMySQLInterfaceError\u001b[0m                       Traceback (most recent call last)",
      "\u001b[1;32m~\\anaconda3\\lib\\site-packages\\mysql\\connector\\connection_cext.py\u001b[0m in \u001b[0;36mcmd_query\u001b[1;34m(self, query, raw, buffered, raw_as_string)\u001b[0m\n\u001b[0;32m    506\u001b[0m                 \u001b[0mquery\u001b[0m \u001b[1;33m=\u001b[0m \u001b[0mquery\u001b[0m\u001b[1;33m.\u001b[0m\u001b[0mencode\u001b[0m\u001b[1;33m(\u001b[0m\u001b[1;34m'utf-8'\u001b[0m\u001b[1;33m)\u001b[0m\u001b[1;33m\u001b[0m\u001b[1;33m\u001b[0m\u001b[0m\n\u001b[1;32m--> 507\u001b[1;33m             self._cmysql.query(query,\n\u001b[0m\u001b[0;32m    508\u001b[0m                                \u001b[0mraw\u001b[0m\u001b[1;33m=\u001b[0m\u001b[0mraw\u001b[0m\u001b[1;33m,\u001b[0m \u001b[0mbuffered\u001b[0m\u001b[1;33m=\u001b[0m\u001b[0mbuffered\u001b[0m\u001b[1;33m,\u001b[0m\u001b[1;33m\u001b[0m\u001b[1;33m\u001b[0m\u001b[0m\n",
      "\u001b[1;31mMySQLInterfaceError\u001b[0m: Unknown column 'name' in 'field list'",
      "\nDuring handling of the above exception, another exception occurred:\n",
      "\u001b[1;31mProgrammingError\u001b[0m                          Traceback (most recent call last)",
      "\u001b[1;32m<ipython-input-15-6a6284aa23d7>\u001b[0m in \u001b[0;36m<module>\u001b[1;34m\u001b[0m\n\u001b[0;32m      7\u001b[0m \u001b[0mmycursor\u001b[0m \u001b[1;33m=\u001b[0m \u001b[0mmydb\u001b[0m\u001b[1;33m.\u001b[0m\u001b[0mcursor\u001b[0m\u001b[1;33m(\u001b[0m\u001b[1;33m)\u001b[0m\u001b[1;33m\u001b[0m\u001b[1;33m\u001b[0m\u001b[0m\n\u001b[0;32m      8\u001b[0m \u001b[0msql\u001b[0m \u001b[1;33m=\u001b[0m \u001b[1;34m\"INSERT INTO college (name,student_id,marks) VALUES ('raju',1033,23),('ravi',1022,25),('ram',1032,27),('laxman',5022,25),('rekha',1032,45)\"\u001b[0m\u001b[1;33m\u001b[0m\u001b[1;33m\u001b[0m\u001b[0m\n\u001b[1;32m----> 9\u001b[1;33m \u001b[0mmycursor\u001b[0m\u001b[1;33m.\u001b[0m\u001b[0mexecute\u001b[0m\u001b[1;33m(\u001b[0m\u001b[0msql\u001b[0m\u001b[1;33m)\u001b[0m\u001b[1;33m\u001b[0m\u001b[1;33m\u001b[0m\u001b[0m\n\u001b[0m\u001b[0;32m     10\u001b[0m \u001b[0mmydb\u001b[0m\u001b[1;33m.\u001b[0m\u001b[0mcommit\u001b[0m\u001b[1;33m(\u001b[0m\u001b[1;33m)\u001b[0m\u001b[1;33m\u001b[0m\u001b[1;33m\u001b[0m\u001b[0m\n\u001b[0;32m     11\u001b[0m \u001b[0mprint\u001b[0m\u001b[1;33m(\u001b[0m\u001b[0mmycursor\u001b[0m\u001b[1;33m.\u001b[0m\u001b[0mrowcount\u001b[0m\u001b[1;33m,\u001b[0m\u001b[1;34m\"record installed\"\u001b[0m\u001b[1;33m)\u001b[0m\u001b[1;33m\u001b[0m\u001b[1;33m\u001b[0m\u001b[0m\n",
      "\u001b[1;32m~\\anaconda3\\lib\\site-packages\\mysql\\connector\\cursor_cext.py\u001b[0m in \u001b[0;36mexecute\u001b[1;34m(self, operation, params, multi)\u001b[0m\n\u001b[0;32m    272\u001b[0m \u001b[1;33m\u001b[0m\u001b[0m\n\u001b[0;32m    273\u001b[0m         \u001b[1;32mtry\u001b[0m\u001b[1;33m:\u001b[0m\u001b[1;33m\u001b[0m\u001b[1;33m\u001b[0m\u001b[0m\n\u001b[1;32m--> 274\u001b[1;33m             result = self._cnx.cmd_query(stmt, raw=self._raw,\n\u001b[0m\u001b[0;32m    275\u001b[0m                                          \u001b[0mbuffered\u001b[0m\u001b[1;33m=\u001b[0m\u001b[0mself\u001b[0m\u001b[1;33m.\u001b[0m\u001b[0m_buffered\u001b[0m\u001b[1;33m,\u001b[0m\u001b[1;33m\u001b[0m\u001b[1;33m\u001b[0m\u001b[0m\n\u001b[0;32m    276\u001b[0m                                          raw_as_string=self._raw_as_string)\n",
      "\u001b[1;32m~\\anaconda3\\lib\\site-packages\\mysql\\connector\\connection_cext.py\u001b[0m in \u001b[0;36mcmd_query\u001b[1;34m(self, query, raw, buffered, raw_as_string)\u001b[0m\n\u001b[0;32m    509\u001b[0m                                raw_as_string=raw_as_string)\n\u001b[0;32m    510\u001b[0m         \u001b[1;32mexcept\u001b[0m \u001b[0mMySQLInterfaceError\u001b[0m \u001b[1;32mas\u001b[0m \u001b[0mexc\u001b[0m\u001b[1;33m:\u001b[0m\u001b[1;33m\u001b[0m\u001b[1;33m\u001b[0m\u001b[0m\n\u001b[1;32m--> 511\u001b[1;33m             raise errors.get_mysql_exception(exc.errno, msg=exc.msg,\n\u001b[0m\u001b[0;32m    512\u001b[0m                                              sqlstate=exc.sqlstate)\n\u001b[0;32m    513\u001b[0m         \u001b[1;32mexcept\u001b[0m \u001b[0mAttributeError\u001b[0m\u001b[1;33m:\u001b[0m\u001b[1;33m\u001b[0m\u001b[1;33m\u001b[0m\u001b[0m\n",
      "\u001b[1;31mProgrammingError\u001b[0m: 1054 (42S22): Unknown column 'name' in 'field list'"
     ]
    }
   ],
   "source": [
    "mydb = mysql.connector.connect(\n",
    "host = \"localhost\",\n",
    "user = \"root\",\n",
    "password = \"9449200151\",\n",
    "database =\"database2\"\n",
    ")\n",
    "mycursor = mydb.cursor()\n",
    "\n",
    "mycursor.execute(\"CREATE TABLE college (gender VARCHAR(6), student_id INTEGER(10),marks INTEGER(3))\")"
   ]
  },
  {
   "cell_type": "markdown",
   "metadata": {},
   "source": [
    "JOINING"
   ]
  },
  {
   "cell_type": "code",
   "execution_count": 9,
   "metadata": {},
   "outputs": [],
   "source": [
    "#CHEAK ANY TABLES ARE AVAILABLE"
   ]
  },
  {
   "cell_type": "code",
   "execution_count": 10,
   "metadata": {},
   "outputs": [
    {
     "name": "stdout",
     "output_type": "stream",
     "text": [
      "('school',)\n"
     ]
    }
   ],
   "source": [
    "mydb = mysql.connector.connect(\n",
    "host = \"localhost\",\n",
    "user = \"root\",\n",
    "password = \"9449200151\",\n",
    "database =\"database1\"\n",
    ")\n",
    "mycursor = mydb.cursor()\n",
    "mycursor.execute(\"SHOW TABLES\")\n",
    "for x in mycursor:\n",
    "    print(x)\n"
   ]
  },
  {
   "cell_type": "code",
   "execution_count": 11,
   "metadata": {},
   "outputs": [
    {
     "name": "stdout",
     "output_type": "stream",
     "text": [
      "('male', 1021, 21)\n",
      "('male', 1033, 23)\n",
      "('female', 1022, 100)\n",
      "('female', 1032, 27)\n",
      "('male', 5022, 25)\n",
      "('male', 1032, 45)\n",
      "('male', 1021, 21)\n",
      "('male', 1033, 23)\n",
      "('female', 1022, 100)\n",
      "('female', 1032, 27)\n",
      "('male', 5022, 25)\n",
      "('male', 1032, 45)\n",
      "('male', 1021, 21)\n",
      "('male', 1033, 23)\n",
      "('female', 1022, 100)\n",
      "('female', 1032, 27)\n",
      "('male', 5022, 25)\n",
      "('male', 1032, 45)\n",
      "('male', 1021, 21)\n",
      "('male', 1033, 23)\n",
      "('female', 1022, 100)\n",
      "('female', 1032, 27)\n",
      "('male', 5022, 25)\n",
      "('male', 1032, 45)\n"
     ]
    }
   ],
   "source": [
    "mydb = mysql.connector.connect(\n",
    "host = \"localhost\",\n",
    "user = \"root\",\n",
    "password = \"9449200151\",\n",
    "database =\"database1\"\n",
    ")\n",
    "mycursor = mydb.cursor()\n",
    "mycursor.execute(\"SELECT * FROM school\")\n",
    "myresult = mycursor.fetchall()\n",
    "for x in myresult:\n",
    "    print(x)"
   ]
  },
  {
   "cell_type": "code",
   "execution_count": 14,
   "metadata": {},
   "outputs": [
    {
     "name": "stdout",
     "output_type": "stream",
     "text": [
      "('male', 1033, 23)\n",
      "('female', 1022, 25)\n",
      "('female', 1032, 27)\n",
      "('male', 5022, 25)\n",
      "('male', 1032, 45)\n"
     ]
    }
   ],
   "source": [
    "mydb = mysql.connector.connect(\n",
    "host = \"localhost\",\n",
    "user = \"root\",\n",
    "password = \"9449200151\",\n",
    "database =\"database2\"\n",
    ")\n",
    "mycursor = mydb.cursor()\n",
    "mycursor.execute(\"SELECT * FROM college\")\n",
    "myresult = mycursor.fetchall()\n",
    "for x in myresult:\n",
    "    print(x)"
   ]
  },
  {
   "cell_type": "markdown",
   "metadata": {},
   "source": [
    "DATABASE 3 INSTALLATION"
   ]
  },
  {
   "cell_type": "code",
   "execution_count": 17,
   "metadata": {},
   "outputs": [],
   "source": [
    "mycursor = mydb.cursor()\n",
    "mycursor.execute(\"CREATE DATABASE database3\")"
   ]
  },
  {
   "cell_type": "code",
   "execution_count": 20,
   "metadata": {},
   "outputs": [],
   "source": [
    "mydb = mysql.connector.connect(\n",
    "host = \"localhost\",\n",
    "user = \"root\",\n",
    "password = \"9449200151\",\n",
    "database =\"database3\"\n",
    ")\n",
    "mycursor = mydb.cursor()\n",
    "\n",
    "mycursor.execute(\"CREATE TABLE patshala (name VARCHAR(6), student_id INTEGER(10),marks INTEGER(3))\")"
   ]
  },
  {
   "cell_type": "code",
   "execution_count": 34,
   "metadata": {},
   "outputs": [
    {
     "name": "stdout",
     "output_type": "stream",
     "text": [
      "5 record installed\n"
     ]
    }
   ],
   "source": [
    "mydb = mysql.connector.connect(\n",
    "host = \"localhost\",\n",
    "user = \"root\",\n",
    "password = \"9449200151\",\n",
    "database =\"database3\",\n",
    "    \n",
    ")\n",
    "mycursor = mydb.cursor()\n",
    "sql = \"INSERT INTO patshala (name,student_id,marks) VALUES ('raju',1033,23),('ravi',1022,25),('ram',1032,27),('laxman',5022,25),('rekha',1032,45)\"\n",
    "mycursor.execute(sql)\n",
    "mydb.commit()\n",
    "print(mycursor.rowcount,\"record installed\")"
   ]
  },
  {
   "cell_type": "code",
   "execution_count": 33,
   "metadata": {},
   "outputs": [],
   "source": [
    "# THE INNER JOIN MATCHES EACH ROW IN ONE ROW AND TABLE WITH EVERY ROW IN OTHER TABLES AND ALLOWS YOU TO QUERY"
   ]
  },
  {
   "cell_type": "code",
   "execution_count": 24,
   "metadata": {},
   "outputs": [],
   "source": [
    "# ROWS THAT CONTAINS COLUMNS FROM BOTH TABLES"
   ]
  },
  {
   "cell_type": "code",
   "execution_count": 35,
   "metadata": {},
   "outputs": [
    {
     "ename": "ProgrammingError",
     "evalue": "1146 (42S02): Table 'database1.patshala' doesn't exist",
     "output_type": "error",
     "traceback": [
      "\u001b[1;31m---------------------------------------------------------------------------\u001b[0m",
      "\u001b[1;31mMySQLInterfaceError\u001b[0m                       Traceback (most recent call last)",
      "\u001b[1;32m~\\anaconda3\\lib\\site-packages\\mysql\\connector\\connection_cext.py\u001b[0m in \u001b[0;36mcmd_query\u001b[1;34m(self, query, raw, buffered, raw_as_string)\u001b[0m\n\u001b[0;32m    506\u001b[0m                 \u001b[0mquery\u001b[0m \u001b[1;33m=\u001b[0m \u001b[0mquery\u001b[0m\u001b[1;33m.\u001b[0m\u001b[0mencode\u001b[0m\u001b[1;33m(\u001b[0m\u001b[1;34m'utf-8'\u001b[0m\u001b[1;33m)\u001b[0m\u001b[1;33m\u001b[0m\u001b[1;33m\u001b[0m\u001b[0m\n\u001b[1;32m--> 507\u001b[1;33m             self._cmysql.query(query,\n\u001b[0m\u001b[0;32m    508\u001b[0m                                \u001b[0mraw\u001b[0m\u001b[1;33m=\u001b[0m\u001b[0mraw\u001b[0m\u001b[1;33m,\u001b[0m \u001b[0mbuffered\u001b[0m\u001b[1;33m=\u001b[0m\u001b[0mbuffered\u001b[0m\u001b[1;33m,\u001b[0m\u001b[1;33m\u001b[0m\u001b[1;33m\u001b[0m\u001b[0m\n",
      "\u001b[1;31mMySQLInterfaceError\u001b[0m: Table 'database1.patshala' doesn't exist",
      "\nDuring handling of the above exception, another exception occurred:\n",
      "\u001b[1;31mProgrammingError\u001b[0m                          Traceback (most recent call last)",
      "\u001b[1;32m<ipython-input-35-76196dd6e77a>\u001b[0m in \u001b[0;36m<module>\u001b[1;34m\u001b[0m\n\u001b[0;32m      7\u001b[0m \u001b[0mmycursor\u001b[0m \u001b[1;33m=\u001b[0m \u001b[0mmydb\u001b[0m\u001b[1;33m.\u001b[0m\u001b[0mcursor\u001b[0m\u001b[1;33m(\u001b[0m\u001b[1;33m)\u001b[0m\u001b[1;33m\u001b[0m\u001b[1;33m\u001b[0m\u001b[0m\n\u001b[0;32m      8\u001b[0m \u001b[0msql\u001b[0m \u001b[1;33m=\u001b[0m \u001b[1;34m\"SELECT patshala.student_id,patshala.name,school.gender,school.school FROM patshala INNER JOIN school ON patshala.student_id = school.student_id\"\u001b[0m\u001b[1;33m\u001b[0m\u001b[1;33m\u001b[0m\u001b[0m\n\u001b[1;32m----> 9\u001b[1;33m \u001b[0mmycursor\u001b[0m\u001b[1;33m.\u001b[0m\u001b[0mexecute\u001b[0m\u001b[1;33m(\u001b[0m\u001b[0msql\u001b[0m\u001b[1;33m)\u001b[0m\u001b[1;33m\u001b[0m\u001b[1;33m\u001b[0m\u001b[0m\n\u001b[0m\u001b[0;32m     10\u001b[0m \u001b[0mmyresult\u001b[0m \u001b[1;33m=\u001b[0m \u001b[0mmycursor\u001b[0m\u001b[1;33m.\u001b[0m\u001b[0mfetchall\u001b[0m\u001b[1;33m(\u001b[0m\u001b[1;33m)\u001b[0m\u001b[1;33m\u001b[0m\u001b[1;33m\u001b[0m\u001b[0m\n\u001b[0;32m     11\u001b[0m \u001b[1;32mfor\u001b[0m \u001b[0mx\u001b[0m \u001b[1;32min\u001b[0m \u001b[0mmyresult\u001b[0m\u001b[1;33m:\u001b[0m\u001b[1;33m\u001b[0m\u001b[1;33m\u001b[0m\u001b[0m\n",
      "\u001b[1;32m~\\anaconda3\\lib\\site-packages\\mysql\\connector\\cursor_cext.py\u001b[0m in \u001b[0;36mexecute\u001b[1;34m(self, operation, params, multi)\u001b[0m\n\u001b[0;32m    272\u001b[0m \u001b[1;33m\u001b[0m\u001b[0m\n\u001b[0;32m    273\u001b[0m         \u001b[1;32mtry\u001b[0m\u001b[1;33m:\u001b[0m\u001b[1;33m\u001b[0m\u001b[1;33m\u001b[0m\u001b[0m\n\u001b[1;32m--> 274\u001b[1;33m             result = self._cnx.cmd_query(stmt, raw=self._raw,\n\u001b[0m\u001b[0;32m    275\u001b[0m                                          \u001b[0mbuffered\u001b[0m\u001b[1;33m=\u001b[0m\u001b[0mself\u001b[0m\u001b[1;33m.\u001b[0m\u001b[0m_buffered\u001b[0m\u001b[1;33m,\u001b[0m\u001b[1;33m\u001b[0m\u001b[1;33m\u001b[0m\u001b[0m\n\u001b[0;32m    276\u001b[0m                                          raw_as_string=self._raw_as_string)\n",
      "\u001b[1;32m~\\anaconda3\\lib\\site-packages\\mysql\\connector\\connection_cext.py\u001b[0m in \u001b[0;36mcmd_query\u001b[1;34m(self, query, raw, buffered, raw_as_string)\u001b[0m\n\u001b[0;32m    509\u001b[0m                                raw_as_string=raw_as_string)\n\u001b[0;32m    510\u001b[0m         \u001b[1;32mexcept\u001b[0m \u001b[0mMySQLInterfaceError\u001b[0m \u001b[1;32mas\u001b[0m \u001b[0mexc\u001b[0m\u001b[1;33m:\u001b[0m\u001b[1;33m\u001b[0m\u001b[1;33m\u001b[0m\u001b[0m\n\u001b[1;32m--> 511\u001b[1;33m             raise errors.get_mysql_exception(exc.errno, msg=exc.msg,\n\u001b[0m\u001b[0;32m    512\u001b[0m                                              sqlstate=exc.sqlstate)\n\u001b[0;32m    513\u001b[0m         \u001b[1;32mexcept\u001b[0m \u001b[0mAttributeError\u001b[0m\u001b[1;33m:\u001b[0m\u001b[1;33m\u001b[0m\u001b[1;33m\u001b[0m\u001b[0m\n",
      "\u001b[1;31mProgrammingError\u001b[0m: 1146 (42S02): Table 'database1.patshala' doesn't exist"
     ]
    }
   ],
   "source": [
    "mydb = mysql.connector.connect(\n",
    "host = \"localhost\",\n",
    "user = \"root\",\n",
    "password = \"9449200151\",\n",
    "database =\"database1\"\n",
    ")\n",
    "mycursor = mydb.cursor()\n",
    "sql = \"SELECT patshala.student_id,patshala.name,school.gender,school.school FROM patshala INNER JOIN school ON patshala.student_id = school.student_id\"\n",
    "mycursor.execute(sql)\n",
    "myresult = mycursor.fetchall()\n",
    "for x in myresult:\n",
    "    print(x)"
   ]
  },
  {
   "cell_type": "code",
   "execution_count": null,
   "metadata": {},
   "outputs": [],
   "source": []
  }
 ],
 "metadata": {
  "kernelspec": {
   "display_name": "Python 3",
   "language": "python",
   "name": "python3"
  },
  "language_info": {
   "codemirror_mode": {
    "name": "ipython",
    "version": 3
   },
   "file_extension": ".py",
   "mimetype": "text/x-python",
   "name": "python",
   "nbconvert_exporter": "python",
   "pygments_lexer": "ipython3",
   "version": "3.8.5"
  }
 },
 "nbformat": 4,
 "nbformat_minor": 4
}
